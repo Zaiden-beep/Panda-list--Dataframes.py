{
 "cells": [
  {
   "cell_type": "code",
   "execution_count": 3,
   "metadata": {},
   "outputs": [
    {
     "name": "stdout",
     "output_type": "stream",
     "text": [
      "   Chips Cooldrinks Chocolates          Pies   Fruit   Cupcakes  Veggies\n",
      "0  Simba       Coke    Cadbury  Pepper Steak    Pear    Vanilla  Spinach\n",
      "1   Lays      Fanta        Tex       Chicken   Apple  Chocolate  Cabbage\n",
      "2                                             Orange                    \n"
     ]
    }
   ],
   "source": [
    "# importing pandas as pd \n",
    "import pandas as pd \n",
    "\n",
    "# Create the dataframe \n",
    "df = pd.DataFrame({'Chips':['Simba', 'Lays',''], \n",
    "\t\t\t\t\t'Cooldrinks':['Coke', 'Fanta', ''], \n",
    "\t\t\t\t\t'Chocolates':['Cadbury', 'Tex', ''],\n",
    "                    'Pies':['Pepper Steak', 'Chicken', ''],\n",
    "                    'Fruit':['Pear', 'Apple', 'Orange'],\n",
    "                    'Cupcakes':['Vanilla', 'Chocolate', ''],\n",
    "                    'Veggies':['Spinach', 'Cabbage', '']}) \n",
    "\n",
    "# Print the dataframe \n",
    "print(df) \n"
   ]
  }
 ],
 "metadata": {
  "kernelspec": {
   "display_name": "Python 3",
   "language": "python",
   "name": "python3"
  },
  "language_info": {
   "codemirror_mode": {
    "name": "ipython",
    "version": 3
   },
   "file_extension": ".py",
   "mimetype": "text/x-python",
   "name": "python",
   "nbconvert_exporter": "python",
   "pygments_lexer": "ipython3",
   "version": "3.7.6"
  }
 },
 "nbformat": 4,
 "nbformat_minor": 4
}
